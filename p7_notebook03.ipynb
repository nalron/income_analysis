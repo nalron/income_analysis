{
 "cells": [
  {
   "cell_type": "markdown",
   "metadata": {},
   "source": [
    "# Prédiction de revenus : cibler de nouveaux clients potentiels \n",
    "*Etude data - Projet 7 - Nicolas Pasero (avril 2020)*\\\n",
    "*OpenClassrooms - ENSAE-ENSAI Formation Continue*\\\n",
    "*Traitement des données sur Jupyter Notebook (Distribution Anaconda)*\\\n",
    "*Etude réalisée en langage Python*"
   ]
  },
  {
   "cell_type": "markdown",
   "metadata": {},
   "source": [
    "---"
   ]
  },
  {
   "cell_type": "markdown",
   "metadata": {},
   "source": [
    "## Étude des classes de revenu des parents\n",
    "Dans l'état actuel, nous avons à disposition deux des trois variables explicatives souhaitées :\n",
    " - le revenu moyen du pays, \n",
    " - l'indice de Gini du pays.\n",
    "\n",
    "*Il manque donc, pour un individu, la classe de revenu de ses parents*.\n",
    "\n",
    "Ici nous supposons que l'on associe à chaque individu i une unique classe 'c_i_parent', quel que soit le nombre de parents de i.\n",
    "\n",
    "Il est donc question de simuler cette information grâce à un coefficient (propre à chaque pays ) mesurant une corrélation entre le revenu de l'individu et le revenu de ses parents. Ce coefficient sera ici appelé *coefficient d'élasticité pj*, il mesure *la mobilité intergénérationnelle du revenu*.\n",
    "\n",
    "Pour plus d'informations sur le calcul du coefficient d'élasticité, vous pouvez consulter ce [document](https://s3-eu-west-1.amazonaws.com/static.oc-static.com/prod/courses/files/parcours-data-analyst/2011-measuring-intergenerational-income-mobility-art.pdf), notamment l'équation 1 de la page 8. Ce coefficient est déterminé par une régression linéaire simple dans laquelle le logarithme du revenu de l'enfant est une fonction du logarithme du revenu des parents: \n",
    "\n",
    "**ln(Ychild) = α + pj ln(Yparent) + ϵ**\n",
    "\n",
    "*Les sources du coefficient d'élasticité* :\\\n",
    "Coefficients donnés par la Banque mondiale, dans GDIM dataset : http://www.worldbank.org/en/topic/poverty/brief/what-is-the-global-database-on-intergenerational-mobility-gdim. Le coefficient d'élasticité est donné pour certains pays, sous le nom d'IGE Income (relative IGM in income).\n",
    "Ou bien des estimations provenant de multiples études, extrapolées à différentes régions du monde:  elles se trouvent dans le fichier elasticity.txt. Attention, ces données sont parfois anciennes."
   ]
  },
  {
   "cell_type": "markdown",
   "metadata": {},
   "source": [
    "#### Ci-dessous un aperçu de nos deux sources de données"
   ]
  },
  {
   "cell_type": "code",
   "execution_count": 75,
   "metadata": {},
   "outputs": [
    {
     "data": {
      "text/html": [
       "<div>\n",
       "<style scoped>\n",
       "    .dataframe tbody tr th:only-of-type {\n",
       "        vertical-align: middle;\n",
       "    }\n",
       "\n",
       "    .dataframe tbody tr th {\n",
       "        vertical-align: top;\n",
       "    }\n",
       "\n",
       "    .dataframe thead th {\n",
       "        text-align: right;\n",
       "    }\n",
       "</style>\n",
       "<table border=\"1\" class=\"dataframe\">\n",
       "  <thead>\n",
       "    <tr style=\"text-align: right;\">\n",
       "      <th></th>\n",
       "      <th>Coefficients of intergenerational elasticity between parents’ and</th>\n",
       "    </tr>\n",
       "  </thead>\n",
       "  <tbody>\n",
       "    <tr>\n",
       "      <th>0</th>\n",
       "      <td>children’s income</td>\n",
       "    </tr>\n",
       "    <tr>\n",
       "      <th>1</th>\n",
       "      <td>| Base case  | Optim...</td>\n",
       "    </tr>\n",
       "    <tr>\n",
       "      <th>2</th>\n",
       "      <td>|            | (high...</td>\n",
       "    </tr>\n",
       "    <tr>\n",
       "      <th>3</th>\n",
       "      <td>----------------------------------------------...</td>\n",
       "    </tr>\n",
       "    <tr>\n",
       "      <th>4</th>\n",
       "      <td>Nordic European countries |    0.2     |      ...</td>\n",
       "    </tr>\n",
       "    <tr>\n",
       "      <th>5</th>\n",
       "      <td>and Canada                |            |      ...</td>\n",
       "    </tr>\n",
       "    <tr>\n",
       "      <th>6</th>\n",
       "      <td>----------------------------------------------...</td>\n",
       "    </tr>\n",
       "    <tr>\n",
       "      <th>7</th>\n",
       "      <td>Europe (except nordic     |    0.4     |      ...</td>\n",
       "    </tr>\n",
       "    <tr>\n",
       "      <th>8</th>\n",
       "      <td>countries)                |            |      ...</td>\n",
       "    </tr>\n",
       "    <tr>\n",
       "      <th>9</th>\n",
       "      <td>----------------------------------------------...</td>\n",
       "    </tr>\n",
       "    <tr>\n",
       "      <th>10</th>\n",
       "      <td>Australia/New Zealand/USA |    0.4     |      ...</td>\n",
       "    </tr>\n",
       "    <tr>\n",
       "      <th>11</th>\n",
       "      <td>----------------------------------------------...</td>\n",
       "    </tr>\n",
       "    <tr>\n",
       "      <th>12</th>\n",
       "      <td>Asia                      |    0.5     |      ...</td>\n",
       "    </tr>\n",
       "    <tr>\n",
       "      <th>13</th>\n",
       "      <td>----------------------------------------------...</td>\n",
       "    </tr>\n",
       "    <tr>\n",
       "      <th>14</th>\n",
       "      <td>Latin America/Africa      |    0.66    |      ...</td>\n",
       "    </tr>\n",
       "    <tr>\n",
       "      <th>15</th>\n",
       "      <td>----------------------------------------------...</td>\n",
       "    </tr>\n",
       "  </tbody>\n",
       "</table>\n",
       "</div>"
      ],
      "text/plain": [
       "   Coefficients of intergenerational elasticity between parents’ and\n",
       "0                                   children’s income               \n",
       "1                             | Base case  | Optim...               \n",
       "2                             |            | (high...               \n",
       "3   ----------------------------------------------...               \n",
       "4   Nordic European countries |    0.2     |      ...               \n",
       "5   and Canada                |            |      ...               \n",
       "6   ----------------------------------------------...               \n",
       "7   Europe (except nordic     |    0.4     |      ...               \n",
       "8   countries)                |            |      ...               \n",
       "9   ----------------------------------------------...               \n",
       "10  Australia/New Zealand/USA |    0.4     |      ...               \n",
       "11  ----------------------------------------------...               \n",
       "12  Asia                      |    0.5     |      ...               \n",
       "13  ----------------------------------------------...               \n",
       "14  Latin America/Africa      |    0.66    |      ...               \n",
       "15  ----------------------------------------------...               "
      ]
     },
     "execution_count": 75,
     "metadata": {},
     "output_type": "execute_result"
    }
   ],
   "source": [
    "#Fichier elasticity.txt\n",
    "elasticity_file = pd.read_csv('p7_data/elasticity.txt', sep = \"\\t\")[:16]\n",
    "elasticity_file"
   ]
  },
  {
   "cell_type": "code",
   "execution_count": 76,
   "metadata": {},
   "outputs": [
    {
     "data": {
      "text/html": [
       "<div>\n",
       "<style scoped>\n",
       "    .dataframe tbody tr th:only-of-type {\n",
       "        vertical-align: middle;\n",
       "    }\n",
       "\n",
       "    .dataframe tbody tr th {\n",
       "        vertical-align: top;\n",
       "    }\n",
       "\n",
       "    .dataframe thead th {\n",
       "        text-align: right;\n",
       "    }\n",
       "</style>\n",
       "<table border=\"1\" class=\"dataframe\">\n",
       "  <thead>\n",
       "    <tr style=\"text-align: right;\">\n",
       "      <th></th>\n",
       "      <th>country</th>\n",
       "      <th>country_code</th>\n",
       "      <th>region</th>\n",
       "      <th>IGEincome</th>\n",
       "    </tr>\n",
       "  </thead>\n",
       "  <tbody>\n",
       "    <tr>\n",
       "      <th>0</th>\n",
       "      <td>Afghanistan</td>\n",
       "      <td>AFG</td>\n",
       "      <td>South Asia</td>\n",
       "      <td>NaN</td>\n",
       "    </tr>\n",
       "    <tr>\n",
       "      <th>12</th>\n",
       "      <td>Angola</td>\n",
       "      <td>AGO</td>\n",
       "      <td>Sub-Saharan Africa</td>\n",
       "      <td>NaN</td>\n",
       "    </tr>\n",
       "    <tr>\n",
       "      <th>60</th>\n",
       "      <td>Albania</td>\n",
       "      <td>ALB</td>\n",
       "      <td>Europe &amp; Central Asia</td>\n",
       "      <td>0.815874</td>\n",
       "    </tr>\n",
       "    <tr>\n",
       "      <th>84</th>\n",
       "      <td>Argentina</td>\n",
       "      <td>ARG</td>\n",
       "      <td>Latin America &amp; Caribbean</td>\n",
       "      <td>NaN</td>\n",
       "    </tr>\n",
       "    <tr>\n",
       "      <th>99</th>\n",
       "      <td>Armenia</td>\n",
       "      <td>ARM</td>\n",
       "      <td>Europe &amp; Central Asia</td>\n",
       "      <td>NaN</td>\n",
       "    </tr>\n",
       "    <tr>\n",
       "      <th>183</th>\n",
       "      <td>Australia</td>\n",
       "      <td>AUS</td>\n",
       "      <td>High income</td>\n",
       "      <td>0.275000</td>\n",
       "    </tr>\n",
       "    <tr>\n",
       "      <th>243</th>\n",
       "      <td>Austria</td>\n",
       "      <td>AUT</td>\n",
       "      <td>High income</td>\n",
       "      <td>0.245267</td>\n",
       "    </tr>\n",
       "    <tr>\n",
       "      <th>279</th>\n",
       "      <td>Azerbaijan</td>\n",
       "      <td>AZE</td>\n",
       "      <td>Europe &amp; Central Asia</td>\n",
       "      <td>NaN</td>\n",
       "    </tr>\n",
       "    <tr>\n",
       "      <th>351</th>\n",
       "      <td>Belgium</td>\n",
       "      <td>BEL</td>\n",
       "      <td>High income</td>\n",
       "      <td>0.183176</td>\n",
       "    </tr>\n",
       "    <tr>\n",
       "      <th>405</th>\n",
       "      <td>Benin</td>\n",
       "      <td>BEN</td>\n",
       "      <td>Sub-Saharan Africa</td>\n",
       "      <td>0.855116</td>\n",
       "    </tr>\n",
       "  </tbody>\n",
       "</table>\n",
       "</div>"
      ],
      "text/plain": [
       "         country country_code                     region  IGEincome\n",
       "0    Afghanistan          AFG                 South Asia        NaN\n",
       "12        Angola          AGO         Sub-Saharan Africa        NaN\n",
       "60       Albania          ALB      Europe & Central Asia   0.815874\n",
       "84     Argentina          ARG  Latin America & Caribbean        NaN\n",
       "99       Armenia          ARM      Europe & Central Asia        NaN\n",
       "183    Australia          AUS                High income   0.275000\n",
       "243      Austria          AUT                High income   0.245267\n",
       "279   Azerbaijan          AZE      Europe & Central Asia        NaN\n",
       "351      Belgium          BEL                High income   0.183176\n",
       "405        Benin          BEN         Sub-Saharan Africa   0.855116"
      ]
     },
     "metadata": {},
     "output_type": "display_data"
    },
    {
     "data": {
      "text/plain": [
       "(150, 4)"
      ]
     },
     "metadata": {},
     "output_type": "display_data"
    }
   ],
   "source": [
    "#Chargement et traitement des données GDIM\n",
    "gdim = pd.read_csv('p7_data/GDIMMay2018.csv').loc[:, ['countryname', 'iso3', 'region', 'IGEincome']]\n",
    "gdim.rename(columns={'countryname': 'country', 'iso3' : 'country_code'}, inplace=True)\n",
    "gdim.drop_duplicates(inplace=True)\n",
    "gdim.drop_duplicates(subset=['country'], keep = 'last', inplace=True)\n",
    "display(gdim.head(10))\n",
    "display(gdim.shape)"
   ]
  },
  {
   "cell_type": "code",
   "execution_count": 77,
   "metadata": {},
   "outputs": [
    {
     "data": {
      "text/html": [
       "<div>\n",
       "<style scoped>\n",
       "    .dataframe tbody tr th:only-of-type {\n",
       "        vertical-align: middle;\n",
       "    }\n",
       "\n",
       "    .dataframe tbody tr th {\n",
       "        vertical-align: top;\n",
       "    }\n",
       "\n",
       "    .dataframe thead th {\n",
       "        text-align: right;\n",
       "    }\n",
       "</style>\n",
       "<table border=\"1\" class=\"dataframe\">\n",
       "  <thead>\n",
       "    <tr style=\"text-align: right;\">\n",
       "      <th></th>\n",
       "      <th>country</th>\n",
       "      <th>country_code</th>\n",
       "      <th>region</th>\n",
       "      <th>IGEincome</th>\n",
       "    </tr>\n",
       "  </thead>\n",
       "  <tbody>\n",
       "    <tr>\n",
       "      <th>6298</th>\n",
       "      <td>Venezuela, RB</td>\n",
       "      <td>VEN</td>\n",
       "      <td>Latin America &amp; Caribbean</td>\n",
       "      <td>NaN</td>\n",
       "    </tr>\n",
       "    <tr>\n",
       "      <th>6366</th>\n",
       "      <td>Vanuatu</td>\n",
       "      <td>VUT</td>\n",
       "      <td>East Asia &amp; Pacific</td>\n",
       "      <td>NaN</td>\n",
       "    </tr>\n",
       "    <tr>\n",
       "      <th>6378</th>\n",
       "      <td>West Bank and Gaza</td>\n",
       "      <td>PSE</td>\n",
       "      <td>Middle East &amp; North Africa</td>\n",
       "      <td>NaN</td>\n",
       "    </tr>\n",
       "    <tr>\n",
       "      <th>6390</th>\n",
       "      <td>Yemen, Rep.</td>\n",
       "      <td>YEM</td>\n",
       "      <td>Middle East &amp; North Africa</td>\n",
       "      <td>NaN</td>\n",
       "    </tr>\n",
       "    <tr>\n",
       "      <th>6492</th>\n",
       "      <td>Zambia</td>\n",
       "      <td>ZMB</td>\n",
       "      <td>Sub-Saharan Africa</td>\n",
       "      <td>NaN</td>\n",
       "    </tr>\n",
       "  </tbody>\n",
       "</table>\n",
       "</div>"
      ],
      "text/plain": [
       "                 country country_code                      region  IGEincome\n",
       "6298       Venezuela, RB          VEN   Latin America & Caribbean        NaN\n",
       "6366             Vanuatu          VUT         East Asia & Pacific        NaN\n",
       "6378  West Bank and Gaza          PSE  Middle East & North Africa        NaN\n",
       "6390         Yemen, Rep.          YEM  Middle East & North Africa        NaN\n",
       "6492              Zambia          ZMB          Sub-Saharan Africa        NaN"
      ]
     },
     "metadata": {},
     "output_type": "display_data"
    },
    {
     "data": {
      "text/plain": [
       "77"
      ]
     },
     "metadata": {},
     "output_type": "display_data"
    }
   ],
   "source": [
    "#Isolement des pays sans valeur pour la variable 'IGEincome'\n",
    "missing_gdim = gdim[gdim['IGEincome'].isna()]\n",
    "display(missing_gdim.tail())\n",
    "display(len(missing_gdim))"
   ]
  },
  {
   "cell_type": "code",
   "execution_count": 78,
   "metadata": {},
   "outputs": [
    {
     "data": {
      "text/plain": [
       "77"
      ]
     },
     "execution_count": 78,
     "metadata": {},
     "output_type": "execute_result"
    }
   ],
   "source": [
    "#Identification des pays sans valeur pour la variable 'IGEincome'\n",
    "missing_countries_gdim = missing_gdim['country_code'].unique()\n",
    "missing_countries_gdim = list(missing_countries_gdim)\n",
    "len(missing_countries_gdim)"
   ]
  },
  {
   "cell_type": "code",
   "execution_count": 79,
   "metadata": {},
   "outputs": [
    {
     "data": {
      "text/plain": [
       "['South Asia',\n",
       " 'Sub-Saharan Africa',\n",
       " 'Latin America & Caribbean',\n",
       " 'Europe & Central Asia',\n",
       " 'Middle East & North Africa',\n",
       " 'High income',\n",
       " 'East Asia & Pacific']"
      ]
     },
     "execution_count": 79,
     "metadata": {},
     "output_type": "execute_result"
    }
   ],
   "source": [
    "#Visualisation des régions concernées \n",
    "list(missing_gdim.region.unique())"
   ]
  },
  {
   "cell_type": "code",
   "execution_count": 80,
   "metadata": {},
   "outputs": [
    {
     "data": {
      "text/plain": [
       "array(['Estonia', 'Hungary', 'Iceland', 'Israel', 'Lithuania', 'Poland',\n",
       "       'Uruguay'], dtype=object)"
      ]
     },
     "execution_count": 80,
     "metadata": {},
     "output_type": "execute_result"
    }
   ],
   "source": [
    "#Visualisation des pays concernés par la région 'High income'\n",
    "missing_gdim[missing_gdim['region'] == 'High income']['country'].unique()"
   ]
  },
  {
   "cell_type": "code",
   "execution_count": 81,
   "metadata": {},
   "outputs": [],
   "source": [
    "#Boucle itérative afin d'imputer les valeurs NaN sur la variable 'IGEincome'\n",
    "for code in missing_countries_gdim :\n",
    "    if list(gdim.loc[gdim['country_code'] == code, 'region']) == ['South Asia']:\n",
    "        gdim.loc[gdim['country_code'] == code, 'IGEincome'] = 0.50\n",
    "    elif list(gdim.loc[gdim['country_code'] == code, 'region']) == ['Sub-Saharan Africa']:\n",
    "        gdim.loc[gdim['country_code'] == code, 'IGEincome'] = 0.66\n",
    "    elif list(gdim.loc[gdim['country_code'] == code, 'region']) == ['Latin America & Caribbean']:\n",
    "        gdim.loc[gdim['country_code'] == code, 'IGEincome'] = 0.66\n",
    "    elif list(gdim.loc[gdim['country_code'] == code, 'region']) == ['Europe & Central Asia']:\n",
    "        gdim.loc[gdim['country_code'] == code, 'IGEincome'] = 0.40                                                               \n",
    "    elif list(gdim.loc[gdim['country_code'] == code, 'region']) == ['East Asia & Pacific']:\n",
    "        gdim.loc[gdim['country_code'] == code, 'IGEincome'] = 0.50\n",
    "    else : gdim.loc[gdim['country_code'] == code, 'IGEincome'] =  0.40                                     "
   ]
  },
  {
   "cell_type": "code",
   "execution_count": 82,
   "metadata": {},
   "outputs": [
    {
     "data": {
      "text/html": [
       "<div>\n",
       "<style scoped>\n",
       "    .dataframe tbody tr th:only-of-type {\n",
       "        vertical-align: middle;\n",
       "    }\n",
       "\n",
       "    .dataframe tbody tr th {\n",
       "        vertical-align: top;\n",
       "    }\n",
       "\n",
       "    .dataframe thead th {\n",
       "        text-align: right;\n",
       "    }\n",
       "</style>\n",
       "<table border=\"1\" class=\"dataframe\">\n",
       "  <thead>\n",
       "    <tr style=\"text-align: right;\">\n",
       "      <th></th>\n",
       "      <th>country_code</th>\n",
       "      <th>country</th>\n",
       "      <th>year</th>\n",
       "      <th>quantile</th>\n",
       "      <th>nb_quantiles</th>\n",
       "      <th>income</th>\n",
       "      <th>gdpppp</th>\n",
       "      <th>population</th>\n",
       "      <th>gini</th>\n",
       "      <th>income_avg</th>\n",
       "      <th>pj</th>\n",
       "    </tr>\n",
       "  </thead>\n",
       "  <tbody>\n",
       "    <tr>\n",
       "      <th>0</th>\n",
       "      <td>ALB</td>\n",
       "      <td>Albania</td>\n",
       "      <td>2008</td>\n",
       "      <td>1</td>\n",
       "      <td>100</td>\n",
       "      <td>728.89795</td>\n",
       "      <td>7297.0</td>\n",
       "      <td>3002678.0</td>\n",
       "      <td>0.3</td>\n",
       "      <td>2994.829902</td>\n",
       "      <td>0.815874</td>\n",
       "    </tr>\n",
       "    <tr>\n",
       "      <th>1</th>\n",
       "      <td>ALB</td>\n",
       "      <td>Albania</td>\n",
       "      <td>2008</td>\n",
       "      <td>2</td>\n",
       "      <td>100</td>\n",
       "      <td>916.66235</td>\n",
       "      <td>7297.0</td>\n",
       "      <td>3002678.0</td>\n",
       "      <td>0.3</td>\n",
       "      <td>2994.829902</td>\n",
       "      <td>0.815874</td>\n",
       "    </tr>\n",
       "    <tr>\n",
       "      <th>2</th>\n",
       "      <td>ALB</td>\n",
       "      <td>Albania</td>\n",
       "      <td>2008</td>\n",
       "      <td>3</td>\n",
       "      <td>100</td>\n",
       "      <td>1010.91600</td>\n",
       "      <td>7297.0</td>\n",
       "      <td>3002678.0</td>\n",
       "      <td>0.3</td>\n",
       "      <td>2994.829902</td>\n",
       "      <td>0.815874</td>\n",
       "    </tr>\n",
       "    <tr>\n",
       "      <th>3</th>\n",
       "      <td>ALB</td>\n",
       "      <td>Albania</td>\n",
       "      <td>2008</td>\n",
       "      <td>4</td>\n",
       "      <td>100</td>\n",
       "      <td>1086.90780</td>\n",
       "      <td>7297.0</td>\n",
       "      <td>3002678.0</td>\n",
       "      <td>0.3</td>\n",
       "      <td>2994.829902</td>\n",
       "      <td>0.815874</td>\n",
       "    </tr>\n",
       "    <tr>\n",
       "      <th>4</th>\n",
       "      <td>ALB</td>\n",
       "      <td>Albania</td>\n",
       "      <td>2008</td>\n",
       "      <td>5</td>\n",
       "      <td>100</td>\n",
       "      <td>1132.69970</td>\n",
       "      <td>7297.0</td>\n",
       "      <td>3002678.0</td>\n",
       "      <td>0.3</td>\n",
       "      <td>2994.829902</td>\n",
       "      <td>0.815874</td>\n",
       "    </tr>\n",
       "  </tbody>\n",
       "</table>\n",
       "</div>"
      ],
      "text/plain": [
       "  country_code  country  year  quantile  nb_quantiles      income  gdpppp  \\\n",
       "0          ALB  Albania  2008         1           100   728.89795  7297.0   \n",
       "1          ALB  Albania  2008         2           100   916.66235  7297.0   \n",
       "2          ALB  Albania  2008         3           100  1010.91600  7297.0   \n",
       "3          ALB  Albania  2008         4           100  1086.90780  7297.0   \n",
       "4          ALB  Albania  2008         5           100  1132.69970  7297.0   \n",
       "\n",
       "   population  gini   income_avg        pj  \n",
       "0   3002678.0   0.3  2994.829902  0.815874  \n",
       "1   3002678.0   0.3  2994.829902  0.815874  \n",
       "2   3002678.0   0.3  2994.829902  0.815874  \n",
       "3   3002678.0   0.3  2994.829902  0.815874  \n",
       "4   3002678.0   0.3  2994.829902  0.815874  "
      ]
     },
     "execution_count": 82,
     "metadata": {},
     "output_type": "execute_result"
    }
   ],
   "source": [
    "#Jointure avec notre dataframe 'df' et celui obtenu 'gdim'\n",
    "#'IGEincome' sera renommé en 'pj'\n",
    "df_income_mobility = pd.merge(df, gdim[['country_code', 'IGEincome']], how='left', on='country_code')\n",
    "df_income_mobility.rename(columns={'IGEincome': 'pj'}, inplace=True)\n",
    "df_income_mobility.head()"
   ]
  },
  {
   "cell_type": "code",
   "execution_count": 83,
   "metadata": {},
   "outputs": [
    {
     "data": {
      "text/plain": [
       "['Kosovo', 'Syrian Arab Republic']"
      ]
     },
     "execution_count": 83,
     "metadata": {},
     "output_type": "execute_result"
    }
   ],
   "source": [
    "#Vérification des éventuelles valeurs manquantes\n",
    "last_list_missing_countries = list(df_income_mobility[df_income_mobility['pj'].isna()]['country'].unique())\n",
    "last_list_missing_countries"
   ]
  },
  {
   "cell_type": "markdown",
   "metadata": {},
   "source": [
    "*La Syrie est un pays d'Asie de l'Ouest > pj = 0.50*\\\n",
    "*Le Kosovo est un pays d'Europe du Sud  > pj = 0.40*"
   ]
  },
  {
   "cell_type": "code",
   "execution_count": 84,
   "metadata": {},
   "outputs": [],
   "source": [
    "#Imputation des 2 dernières valeurs NaN dans le dataframe \n",
    "for country in last_list_missing_countries :\n",
    "    if list(df_income_mobility[df_income_mobility['country'] == \"Kosovo\"]):\n",
    "        df_income_mobility.loc[df_income_mobility['country'] == country, 'pj'] = 0.40\n",
    "    else : \n",
    "        df_income_mobility.loc[df_income_mobility['country'] == country, 'pj'] = 0.50"
   ]
  },
  {
   "cell_type": "code",
   "execution_count": 85,
   "metadata": {},
   "outputs": [
    {
     "data": {
      "text/plain": [
       "country_code    False\n",
       "country         False\n",
       "year            False\n",
       "quantile        False\n",
       "nb_quantiles    False\n",
       "income          False\n",
       "gdpppp          False\n",
       "population      False\n",
       "gini            False\n",
       "income_avg      False\n",
       "pj              False\n",
       "dtype: bool"
      ]
     },
     "execution_count": 85,
     "metadata": {},
     "output_type": "execute_result"
    }
   ],
   "source": [
    "#Dernière validation de la complétude du dataframe \"df_income_mobility\"\n",
    "df_income_mobility.isna().any()"
   ]
  },
  {
   "cell_type": "markdown",
   "metadata": {},
   "source": [
    "*Les booléens sont tous en False, visualisons le jeu de données.*"
   ]
  },
  {
   "cell_type": "code",
   "execution_count": 86,
   "metadata": {},
   "outputs": [
    {
     "data": {
      "text/html": [
       "<div>\n",
       "<style scoped>\n",
       "    .dataframe tbody tr th:only-of-type {\n",
       "        vertical-align: middle;\n",
       "    }\n",
       "\n",
       "    .dataframe tbody tr th {\n",
       "        vertical-align: top;\n",
       "    }\n",
       "\n",
       "    .dataframe thead th {\n",
       "        text-align: right;\n",
       "    }\n",
       "</style>\n",
       "<table border=\"1\" class=\"dataframe\">\n",
       "  <thead>\n",
       "    <tr style=\"text-align: right;\">\n",
       "      <th></th>\n",
       "      <th>country_code</th>\n",
       "      <th>country</th>\n",
       "      <th>year</th>\n",
       "      <th>quantile</th>\n",
       "      <th>nb_quantiles</th>\n",
       "      <th>income</th>\n",
       "      <th>gdpppp</th>\n",
       "      <th>population</th>\n",
       "      <th>gini</th>\n",
       "      <th>income_avg</th>\n",
       "      <th>pj</th>\n",
       "    </tr>\n",
       "  </thead>\n",
       "  <tbody>\n",
       "    <tr>\n",
       "      <th>0</th>\n",
       "      <td>ALB</td>\n",
       "      <td>Albania</td>\n",
       "      <td>2008</td>\n",
       "      <td>1</td>\n",
       "      <td>100</td>\n",
       "      <td>728.89795</td>\n",
       "      <td>7297.0</td>\n",
       "      <td>3002678.0</td>\n",
       "      <td>0.3</td>\n",
       "      <td>2994.829902</td>\n",
       "      <td>0.815874</td>\n",
       "    </tr>\n",
       "    <tr>\n",
       "      <th>1</th>\n",
       "      <td>ALB</td>\n",
       "      <td>Albania</td>\n",
       "      <td>2008</td>\n",
       "      <td>2</td>\n",
       "      <td>100</td>\n",
       "      <td>916.66235</td>\n",
       "      <td>7297.0</td>\n",
       "      <td>3002678.0</td>\n",
       "      <td>0.3</td>\n",
       "      <td>2994.829902</td>\n",
       "      <td>0.815874</td>\n",
       "    </tr>\n",
       "    <tr>\n",
       "      <th>2</th>\n",
       "      <td>ALB</td>\n",
       "      <td>Albania</td>\n",
       "      <td>2008</td>\n",
       "      <td>3</td>\n",
       "      <td>100</td>\n",
       "      <td>1010.91600</td>\n",
       "      <td>7297.0</td>\n",
       "      <td>3002678.0</td>\n",
       "      <td>0.3</td>\n",
       "      <td>2994.829902</td>\n",
       "      <td>0.815874</td>\n",
       "    </tr>\n",
       "    <tr>\n",
       "      <th>3</th>\n",
       "      <td>ALB</td>\n",
       "      <td>Albania</td>\n",
       "      <td>2008</td>\n",
       "      <td>4</td>\n",
       "      <td>100</td>\n",
       "      <td>1086.90780</td>\n",
       "      <td>7297.0</td>\n",
       "      <td>3002678.0</td>\n",
       "      <td>0.3</td>\n",
       "      <td>2994.829902</td>\n",
       "      <td>0.815874</td>\n",
       "    </tr>\n",
       "    <tr>\n",
       "      <th>4</th>\n",
       "      <td>ALB</td>\n",
       "      <td>Albania</td>\n",
       "      <td>2008</td>\n",
       "      <td>5</td>\n",
       "      <td>100</td>\n",
       "      <td>1132.69970</td>\n",
       "      <td>7297.0</td>\n",
       "      <td>3002678.0</td>\n",
       "      <td>0.3</td>\n",
       "      <td>2994.829902</td>\n",
       "      <td>0.815874</td>\n",
       "    </tr>\n",
       "  </tbody>\n",
       "</table>\n",
       "</div>"
      ],
      "text/plain": [
       "  country_code  country  year  quantile  nb_quantiles      income  gdpppp  \\\n",
       "0          ALB  Albania  2008         1           100   728.89795  7297.0   \n",
       "1          ALB  Albania  2008         2           100   916.66235  7297.0   \n",
       "2          ALB  Albania  2008         3           100  1010.91600  7297.0   \n",
       "3          ALB  Albania  2008         4           100  1086.90780  7297.0   \n",
       "4          ALB  Albania  2008         5           100  1132.69970  7297.0   \n",
       "\n",
       "   population  gini   income_avg        pj  \n",
       "0   3002678.0   0.3  2994.829902  0.815874  \n",
       "1   3002678.0   0.3  2994.829902  0.815874  \n",
       "2   3002678.0   0.3  2994.829902  0.815874  \n",
       "3   3002678.0   0.3  2994.829902  0.815874  \n",
       "4   3002678.0   0.3  2994.829902  0.815874  "
      ]
     },
     "metadata": {},
     "output_type": "display_data"
    },
    {
     "data": {
      "text/plain": [
       "(11600, 11)"
      ]
     },
     "metadata": {},
     "output_type": "display_data"
    }
   ],
   "source": [
    "#Visualisation des premières lignes de l'échantillon \n",
    "display(df_income_mobility.head())\n",
    "display(df_income_mobility.shape)"
   ]
  },
  {
   "cell_type": "markdown",
   "metadata": {},
   "source": [
    "L'échantillon contient 11600 individus, notre échantillon de travail a désormais son coefficient d'élasticité qui mesure la mobilité intergénérationnelle du revenu. A partir des 3 variables explicatives le revenu moyen du pays, l'indice de Gini du pays et le coefficient d'élasticité, *nous pourrons générer des classes de revenu des parents*."
   ]
  },
  {
   "cell_type": "markdown",
   "metadata": {},
   "source": [
    "### Revenus des parents selon une loi normale (de moyenne 0 et d'écart-type 1)\n",
    "Les revenus des parents (exprimés en logs) sont générés de façon aléatoires selon une loi normale. La moyenne et variance n'ont aucune incidence sur le résultat final. *n doit-être supérieur à 1000 fois le nombre de quantiles*."
   ]
  },
  {
   "cell_type": "code",
   "execution_count": 87,
   "metadata": {},
   "outputs": [],
   "source": [
    "pj = 0.33                #Coefficient d'élasticité d'un pays j (ici la France sera prise pour exemple)\n",
    "nb_quantiles = 100       #Nombre de quantiles (nombre de classes de revenu)\n",
    "n = 1000*nb_quantiles    #Taille de l'échantillon"
   ]
  },
  {
   "cell_type": "code",
   "execution_count": 88,
   "metadata": {},
   "outputs": [],
   "source": [
    "#Utilisation de scipy pour générer aléatoirement la variable 'ln(Yparent)'\n",
    "ln_y_parent = st.norm(0,1).rvs(size=n)"
   ]
  },
  {
   "cell_type": "markdown",
   "metadata": {},
   "source": [
    "### Terme d'erreur ϵ selon une loi normale (de moyenne 0 et d'écart-type 1)\n",
    "Génération aléatoire d'une réalisation du terme d'erreur epsilon. "
   ]
  },
  {
   "cell_type": "code",
   "execution_count": 89,
   "metadata": {},
   "outputs": [],
   "source": [
    "#Utilisation de scipy pour générer aléatoirement epsilon\n",
    "residues = st.norm(0,1).rvs(size=n)"
   ]
  },
  {
   "cell_type": "markdown",
   "metadata": {},
   "source": [
    "### Revenus des enfants ychild \n",
    "Les valeurs des revenus enfants ychild sont calculées pour une valeur donnée de pj (ici 0.33). A ce stade, ychild contient des valeurs dont l'ordre de grandeur ne reflète pas la réalité, mais cela n'a pas d'influence pour la suite."
   ]
  },
  {
   "cell_type": "code",
   "execution_count": 90,
   "metadata": {},
   "outputs": [],
   "source": [
    "#Génération des revenus des parents et des enfants selon les éléments cités ci-dessus\n",
    "#Application de la fonction generate_incomes()\n",
    "def generate_incomes(n, pj):\n",
    "    ln_y_parent = st.norm(0,1).rvs(size=n)\n",
    "    residues = st.norm(0,1).rvs(size=n)\n",
    "    return np.exp(pj*ln_y_parent + residues), np.exp(ln_y_parent)\n",
    "\n",
    "y_child, y_parents = generate_incomes(n, pj)"
   ]
  },
  {
   "cell_type": "markdown",
   "metadata": {},
   "source": [
    "### Calcul des classes de revenu des enfants et des parents selon les n individus générés précédemment\n",
    "Pour chacun des n individus générés, les classes de revenu sont calculées selon ychild et yparent."
   ]
  },
  {
   "cell_type": "code",
   "execution_count": 91,
   "metadata": {},
   "outputs": [],
   "source": [
    "#Création d'un échantillon nommé \"sample\" via deux fonctions répondant aux critères liés aux quantiles\n",
    "def quantiles(l, nb_quantiles):\n",
    "    size = len(l)\n",
    "    l_sorted = l.copy()\n",
    "    l_sorted = l_sorted.sort_values()\n",
    "    quantiles = np.round(np.arange(1, nb_quantiles+1, nb_quantiles/size) -0.5 +1./size)\n",
    "    q_dict = {a:int(b) for a,b in zip(l_sorted,quantiles)}\n",
    "    return pd.Series([q_dict[e] for e in l])\n",
    "\n",
    "def compute_quantiles(y_child, y_parents, nb_quantiles):\n",
    "    y_child = pd.Series(y_child)\n",
    "    y_parents = pd.Series(y_parents)\n",
    "    c_i_child = quantiles(y_child, nb_quantiles)\n",
    "    c_i_parent = quantiles(y_parents, nb_quantiles)\n",
    "    sample = pd.concat([y_child, y_parents, c_i_child, c_i_parent], axis=1)\n",
    "    sample.columns = [\"y_child\", \"y_parents\", \"c_i_child\",\"c_i_parent\"]\n",
    "    return sample\n",
    "\n",
    "sample = compute_quantiles(y_child, y_parents, nb_quantiles)"
   ]
  },
  {
   "cell_type": "code",
   "execution_count": 92,
   "metadata": {},
   "outputs": [
    {
     "data": {
      "text/html": [
       "<div>\n",
       "<style scoped>\n",
       "    .dataframe tbody tr th:only-of-type {\n",
       "        vertical-align: middle;\n",
       "    }\n",
       "\n",
       "    .dataframe tbody tr th {\n",
       "        vertical-align: top;\n",
       "    }\n",
       "\n",
       "    .dataframe thead th {\n",
       "        text-align: right;\n",
       "    }\n",
       "</style>\n",
       "<table border=\"1\" class=\"dataframe\">\n",
       "  <thead>\n",
       "    <tr style=\"text-align: right;\">\n",
       "      <th></th>\n",
       "      <th>y_child</th>\n",
       "      <th>y_parents</th>\n",
       "      <th>c_i_child</th>\n",
       "      <th>c_i_parent</th>\n",
       "    </tr>\n",
       "  </thead>\n",
       "  <tbody>\n",
       "    <tr>\n",
       "      <th>0</th>\n",
       "      <td>0.245386</td>\n",
       "      <td>0.753879</td>\n",
       "      <td>10</td>\n",
       "      <td>39</td>\n",
       "    </tr>\n",
       "    <tr>\n",
       "      <th>1</th>\n",
       "      <td>1.083642</td>\n",
       "      <td>1.480475</td>\n",
       "      <td>53</td>\n",
       "      <td>66</td>\n",
       "    </tr>\n",
       "    <tr>\n",
       "      <th>2</th>\n",
       "      <td>0.725011</td>\n",
       "      <td>7.727023</td>\n",
       "      <td>38</td>\n",
       "      <td>99</td>\n",
       "    </tr>\n",
       "    <tr>\n",
       "      <th>3</th>\n",
       "      <td>0.154426</td>\n",
       "      <td>0.073232</td>\n",
       "      <td>4</td>\n",
       "      <td>1</td>\n",
       "    </tr>\n",
       "    <tr>\n",
       "      <th>4</th>\n",
       "      <td>0.214003</td>\n",
       "      <td>0.340997</td>\n",
       "      <td>8</td>\n",
       "      <td>15</td>\n",
       "    </tr>\n",
       "  </tbody>\n",
       "</table>\n",
       "</div>"
      ],
      "text/plain": [
       "    y_child  y_parents  c_i_child  c_i_parent\n",
       "0  0.245386   0.753879         10          39\n",
       "1  1.083642   1.480475         53          66\n",
       "2  0.725011   7.727023         38          99\n",
       "3  0.154426   0.073232          4           1\n",
       "4  0.214003   0.340997          8          15"
      ]
     },
     "metadata": {},
     "output_type": "display_data"
    },
    {
     "data": {
      "text/plain": [
       "(100000, 4)"
      ]
     },
     "metadata": {},
     "output_type": "display_data"
    }
   ],
   "source": [
    "#Visualisation des 5 premières classes de revenu enfants et parents\n",
    "display(sample.head())\n",
    "display(sample.shape)"
   ]
  },
  {
   "cell_type": "markdown",
   "metadata": {},
   "source": [
    "*L'échantillon a été réalisé de façon aléatoire, d'un côté nous avons les individus, et de l'autre, ce qui nous intéresse, les classes de revenu enfants et parents.*"
   ]
  },
  {
   "cell_type": "markdown",
   "metadata": {},
   "source": [
    "### Estimation de la distribution conditionnelle des classes de revenus parents pour chaque classe enfant\n",
    "Les calculs sont toujours dépendants du coefficient d'élasticité pj du pays, dans notre cas d'exemple nous sommes toujours en pj = 0.33 pour la France."
   ]
  },
  {
   "cell_type": "code",
   "execution_count": 93,
   "metadata": {},
   "outputs": [],
   "source": [
    "#utilisation des fonctions de distribution et de probabilité conditionnelles\n",
    "def distribution(counts, nb_quantiles):\n",
    "    distrib = []\n",
    "    total = counts[\"counts\"].sum()\n",
    "    \n",
    "    if total == 0 :\n",
    "        return [0] * nb_quantiles\n",
    "    \n",
    "    for q_p in range(1, nb_quantiles+1):\n",
    "        subset = counts[counts.c_i_parent == q_p]\n",
    "        if len(subset):\n",
    "            nb = subset[\"counts\"].values[0]\n",
    "            distrib += [nb / total]\n",
    "        else:\n",
    "            distrib += [0]\n",
    "    return distrib   \n",
    "\n",
    "def conditional_distributions(sample, nb_quantiles):\n",
    "    counts = sample.groupby([\"c_i_child\",\"c_i_parent\"]).apply(len)\n",
    "    counts = counts.reset_index()\n",
    "    counts.columns = [\"c_i_child\",\"c_i_parent\",\"counts\"]\n",
    "    \n",
    "    mat = []\n",
    "    for child_quantile in np.arange(nb_quantiles)+1:\n",
    "        subset = counts[counts.c_i_child == child_quantile]\n",
    "        mat += [distribution(subset, nb_quantiles)]\n",
    "    return np.array(mat) \n",
    "\n",
    "    \n",
    "def proba_cond(c_i_parent, c_i_child, mat):\n",
    "    return mat[c_i_child, c_i_parent]\n",
    "\n",
    "\n",
    "cd = conditional_distributions(sample, nb_quantiles)\n"
   ]
  },
  {
   "cell_type": "code",
   "execution_count": 94,
   "metadata": {},
   "outputs": [
    {
     "data": {
      "text/html": [
       "<div>\n",
       "<style scoped>\n",
       "    .dataframe tbody tr th:only-of-type {\n",
       "        vertical-align: middle;\n",
       "    }\n",
       "\n",
       "    .dataframe tbody tr th {\n",
       "        vertical-align: top;\n",
       "    }\n",
       "\n",
       "    .dataframe thead th {\n",
       "        text-align: right;\n",
       "    }\n",
       "</style>\n",
       "<table border=\"1\" class=\"dataframe\">\n",
       "  <thead>\n",
       "    <tr style=\"text-align: right;\">\n",
       "      <th></th>\n",
       "      <th>y_child</th>\n",
       "      <th>y_parents</th>\n",
       "      <th>c_i_child</th>\n",
       "      <th>c_i_parent</th>\n",
       "      <th>proba</th>\n",
       "    </tr>\n",
       "  </thead>\n",
       "  <tbody>\n",
       "    <tr>\n",
       "      <th>0</th>\n",
       "      <td>0.245386</td>\n",
       "      <td>0.753879</td>\n",
       "      <td>10</td>\n",
       "      <td>39</td>\n",
       "      <td>0.008</td>\n",
       "    </tr>\n",
       "    <tr>\n",
       "      <th>1</th>\n",
       "      <td>1.083642</td>\n",
       "      <td>1.480475</td>\n",
       "      <td>53</td>\n",
       "      <td>66</td>\n",
       "      <td>0.016</td>\n",
       "    </tr>\n",
       "    <tr>\n",
       "      <th>2</th>\n",
       "      <td>0.725011</td>\n",
       "      <td>7.727023</td>\n",
       "      <td>38</td>\n",
       "      <td>99</td>\n",
       "      <td>0.005</td>\n",
       "    </tr>\n",
       "    <tr>\n",
       "      <th>3</th>\n",
       "      <td>0.154426</td>\n",
       "      <td>0.073232</td>\n",
       "      <td>4</td>\n",
       "      <td>1</td>\n",
       "      <td>0.025</td>\n",
       "    </tr>\n",
       "    <tr>\n",
       "      <th>4</th>\n",
       "      <td>0.214003</td>\n",
       "      <td>0.340997</td>\n",
       "      <td>8</td>\n",
       "      <td>15</td>\n",
       "      <td>0.011</td>\n",
       "    </tr>\n",
       "  </tbody>\n",
       "</table>\n",
       "</div>"
      ],
      "text/plain": [
       "    y_child  y_parents  c_i_child  c_i_parent  proba\n",
       "0  0.245386   0.753879         10          39  0.008\n",
       "1  1.083642   1.480475         53          66  0.016\n",
       "2  0.725011   7.727023         38          99  0.005\n",
       "3  0.154426   0.073232          4           1  0.025\n",
       "4  0.214003   0.340997          8          15  0.011"
      ]
     },
     "execution_count": 94,
     "metadata": {},
     "output_type": "execute_result"
    }
   ],
   "source": [
    "#Itération selon nos classes de revenu\n",
    "nb_quantiles = 101\n",
    "cd = conditional_distributions(sample, nb_quantiles)\n",
    "\n",
    "class myInformativeException(Exception):\n",
    "    def __init__(self, count):\n",
    "        self.count = count\n",
    "proba = []\n",
    "try:        \n",
    "    for x, y in zip(sample['c_i_child'], sample['c_i_parent']):\n",
    "        p = proba_cond(y, x, cd)\n",
    "        proba.append(p)\n",
    "except myInformativeException as e:\n",
    "    print(\"Error on \", e.count)\n",
    "\n",
    "sample['proba'] = proba\n",
    "sample.head()"
   ]
  },
  {
   "cell_type": "markdown",
   "metadata": {},
   "source": [
    "*Graphiquement nous pourrons mieux comprendre la corrélation entre le revenu de l'individu et le revenu de ses parents*."
   ]
  },
  {
   "cell_type": "markdown",
   "metadata": {},
   "source": [
    "### Visualisation des distributions conditionnelles\n",
    "A des fins de vérification, nous pouvons créer un graphique représentant ces distributions conditionnelles. Voici 2 exemples pour une population segmentée en 10 classes, pour 2 valeurs de pj: l'une traduisant une forte mobilité (0.1) et l'autre une très faible mobilité (0.9)."
   ]
  },
  {
   "cell_type": "code",
   "execution_count": 95,
   "metadata": {},
   "outputs": [],
   "source": [
    "#Fonction permettant de visualiser le comportement des distributions conditionnelles \n",
    "def plot_conditional_distributions_high(p, cd, nb_quantiles):\n",
    "    plt.figure(figsize = (10, 6))\n",
    "    \n",
    "    # La ligne suivante sert à afficher un graphique en \"stack bars\", sur ce modèle : https://matplotlib.org/gallery/lines_bars_and_markers/bar_stacked.html\n",
    "    cumul = np.array([0] * nb_quantiles)\n",
    "    \n",
    "    for i, child_quantile in enumerate(cd):\n",
    "        plt.bar(np.arange(nb_quantiles)+1, child_quantile, bottom=cumul, width=0.95, label = str(i+1) +\"e\")\n",
    "        cumul = cumul + np.array(child_quantile)\n",
    "\n",
    "    plt.axis([.5, nb_quantiles*1.3 ,0 ,1])\n",
    "    plt.title(\"Forte mobilité \" + \"p=\" + str(p), fontsize=15, fontweight='bold')\n",
    "    plt.legend()\n",
    "    plt.xlabel(\"quantile parents\", fontsize=10, fontweight='bold')\n",
    "    plt.ylabel(\"probabilité du quantile enfant\", fontsize=10, fontweight='bold')\n",
    "    \n",
    "    plt.savefig('p7_graphic/distri_cond_forte_mobilite.jpg')\n",
    "    plt.show()\n"
   ]
  },
  {
   "cell_type": "markdown",
   "metadata": {},
   "source": [
    "**Voici 2 exemples pour une population segmentée en 10 classes, pour 2 valeurs de pj :**"
   ]
  },
  {
   "cell_type": "code",
   "execution_count": 96,
   "metadata": {},
   "outputs": [
    {
     "data": {
      "image/png": "[encoded data removed]",
      "text/plain": [
       "<Figure size 720x432 with 1 Axes>"
      ]
     },
     "metadata": {},
     "output_type": "display_data"
    }
   ],
   "source": [
    "#Exemple d'une forte mobilité avec un pj = 0.1\n",
    "pj_strong = 0.1                \n",
    "nb_quantiles_strong = 10       \n",
    "n_strong  = 1000*nb_quantiles_strong   \n",
    "\n",
    "y_child_strong, y_parents_strong = generate_incomes(n_strong, pj_strong)\n",
    "sample_strong = compute_quantiles(y_child_strong, y_parents_strong, nb_quantiles_strong)\n",
    "cd_strong = conditional_distributions(sample_strong, nb_quantiles_strong)\n",
    "plot_conditional_distributions_high(pj_strong, cd_strong, nb_quantiles_strong)"
   ]
  },
  {
   "cell_type": "code",
   "execution_count": 97,
   "metadata": {},
   "outputs": [],
   "source": [
    "#Fonction permettant de visualiser le comportement des distributions conditionnelles \n",
    "def plot_conditional_distributions_low(p, cd, nb_quantiles):\n",
    "    plt.figure(figsize = (10, 6))\n",
    "    \n",
    "    # La ligne suivante sert à afficher un graphique en \"stack bars\", sur ce modèle : https://matplotlib.org/gallery/lines_bars_and_markers/bar_stacked.html\n",
    "    cumul = np.array([0] * nb_quantiles)\n",
    "    \n",
    "    for i, child_quantile in enumerate(cd):\n",
    "        plt.bar(np.arange(nb_quantiles)+1, child_quantile, bottom=cumul, width=0.95, label = str(i+1) +\"e\")\n",
    "        cumul = cumul + np.array(child_quantile)\n",
    "\n",
    "    plt.axis([.5, nb_quantiles*1.3 ,0 ,1])\n",
    "    plt.title(\"Faible mobilité \" + \"p=\" + str(p), fontsize=15, fontweight='bold')\n",
    "    plt.legend()\n",
    "    plt.xlabel(\"quantile parents\", fontsize=10, fontweight='bold')\n",
    "    plt.ylabel(\"probabilité du quantile enfant\", fontsize=10, fontweight='bold')\n",
    "    \n",
    "    plt.savefig('p7_graphic/distri_cond_faible_mobilite.jpg')\n",
    "    plt.show()\n"
   ]
  },
  {
   "cell_type": "code",
   "execution_count": 98,
   "metadata": {},
   "outputs": [
    {
     "data": {
      "image/png": "[encoded data removed]",
      "text/plain": [
       "<Figure size 720x432 with 1 Axes>"
      ]
     },
     "metadata": {},
     "output_type": "display_data"
    }
   ],
   "source": [
    "#Exemple d'une très faible mobilité avec un pj = 0.9\n",
    "pj_low = 0.9                \n",
    "nb_quantiles_low = 10       \n",
    "n_low  = 1000*nb_quantiles_low   \n",
    "\n",
    "y_child_low, y_parents_low = generate_incomes(n_low, pj_low)\n",
    "sample_low = compute_quantiles(y_child_low, y_parents_low, nb_quantiles_low)\n",
    "cd_low = conditional_distributions(sample_low, nb_quantiles_low)\n",
    "plot_conditional_distributions_low(pj_low, cd_low, nb_quantiles_low)"
   ]
  },
  {
   "cell_type": "markdown",
   "metadata": {},
   "source": [
    "*Les deux exemples démontrent clairement des situations extrêmes révélatrices de la mobilité des classes de revenu enfants / parents. Dans une situation à faible mobilité intergénérationnelle, prenons l'exemple de la 10ème classe parents pour laquelle il y a moins de 50% de mobilité chez les enfants, en d'autres termes les enfants resteront majoritairement dans la classe de revenu de leurs parents.*"
   ]
  },
  {
   "cell_type": "markdown",
   "metadata": {},
   "source": [
    "### Suppression des individus\n",
    "Pour éviter toute confusion, les individus générés sont supprimés (car inutiles pour la suite), seules les distributions conditionnelles sont conservées."
   ]
  },
  {
   "cell_type": "code",
   "execution_count": 99,
   "metadata": {},
   "outputs": [
    {
     "data": {
      "text/html": [
       "<div>\n",
       "<style scoped>\n",
       "    .dataframe tbody tr th:only-of-type {\n",
       "        vertical-align: middle;\n",
       "    }\n",
       "\n",
       "    .dataframe tbody tr th {\n",
       "        vertical-align: top;\n",
       "    }\n",
       "\n",
       "    .dataframe thead th {\n",
       "        text-align: right;\n",
       "    }\n",
       "</style>\n",
       "<table border=\"1\" class=\"dataframe\">\n",
       "  <thead>\n",
       "    <tr style=\"text-align: right;\">\n",
       "      <th></th>\n",
       "      <th>c_i_child</th>\n",
       "      <th>c_i_parent</th>\n",
       "      <th>proba</th>\n",
       "    </tr>\n",
       "  </thead>\n",
       "  <tbody>\n",
       "    <tr>\n",
       "      <th>0</th>\n",
       "      <td>10</td>\n",
       "      <td>39</td>\n",
       "      <td>0.008</td>\n",
       "    </tr>\n",
       "    <tr>\n",
       "      <th>1</th>\n",
       "      <td>53</td>\n",
       "      <td>66</td>\n",
       "      <td>0.016</td>\n",
       "    </tr>\n",
       "    <tr>\n",
       "      <th>2</th>\n",
       "      <td>38</td>\n",
       "      <td>99</td>\n",
       "      <td>0.005</td>\n",
       "    </tr>\n",
       "    <tr>\n",
       "      <th>3</th>\n",
       "      <td>4</td>\n",
       "      <td>1</td>\n",
       "      <td>0.025</td>\n",
       "    </tr>\n",
       "    <tr>\n",
       "      <th>4</th>\n",
       "      <td>8</td>\n",
       "      <td>15</td>\n",
       "      <td>0.011</td>\n",
       "    </tr>\n",
       "  </tbody>\n",
       "</table>\n",
       "</div>"
      ],
      "text/plain": [
       "   c_i_child  c_i_parent  proba\n",
       "0         10          39  0.008\n",
       "1         53          66  0.016\n",
       "2         38          99  0.005\n",
       "3          4           1  0.025\n",
       "4          8          15  0.011"
      ]
     },
     "execution_count": 99,
     "metadata": {},
     "output_type": "execute_result"
    }
   ],
   "source": [
    "sample = sample.iloc[:, 2:]\n",
    "sample.head()"
   ]
  },
  {
   "cell_type": "markdown",
   "metadata": {},
   "source": [
    "### Nouvel échantillon : 500 fois plus grand que celui de la World Income Distribution\n",
    "Celui-ci sera créé à partir de la WID. Pour chaque individu de la World Income Distribution, il y aura 499 \"clones\". \n",
    "*La taille du nouvel échantillon sera donc 500 fois plus grand que celui de la World Income Distribution*."
   ]
  },
  {
   "cell_type": "code",
   "execution_count": 100,
   "metadata": {},
   "outputs": [
    {
     "data": {
      "text/html": [
       "<div>\n",
       "<style scoped>\n",
       "    .dataframe tbody tr th:only-of-type {\n",
       "        vertical-align: middle;\n",
       "    }\n",
       "\n",
       "    .dataframe tbody tr th {\n",
       "        vertical-align: top;\n",
       "    }\n",
       "\n",
       "    .dataframe thead th {\n",
       "        text-align: right;\n",
       "    }\n",
       "</style>\n",
       "<table border=\"1\" class=\"dataframe\">\n",
       "  <thead>\n",
       "    <tr style=\"text-align: right;\">\n",
       "      <th></th>\n",
       "      <th>country_code</th>\n",
       "      <th>country</th>\n",
       "      <th>quantile</th>\n",
       "      <th>population</th>\n",
       "      <th>income</th>\n",
       "      <th>income_avg</th>\n",
       "      <th>gini</th>\n",
       "      <th>pj</th>\n",
       "    </tr>\n",
       "  </thead>\n",
       "  <tbody>\n",
       "    <tr>\n",
       "      <th>0</th>\n",
       "      <td>ALB</td>\n",
       "      <td>Albania</td>\n",
       "      <td>1</td>\n",
       "      <td>3002678.0</td>\n",
       "      <td>728.89795</td>\n",
       "      <td>2994.829902</td>\n",
       "      <td>0.3</td>\n",
       "      <td>0.815874</td>\n",
       "    </tr>\n",
       "    <tr>\n",
       "      <th>1</th>\n",
       "      <td>ALB</td>\n",
       "      <td>Albania</td>\n",
       "      <td>2</td>\n",
       "      <td>3002678.0</td>\n",
       "      <td>916.66235</td>\n",
       "      <td>2994.829902</td>\n",
       "      <td>0.3</td>\n",
       "      <td>0.815874</td>\n",
       "    </tr>\n",
       "    <tr>\n",
       "      <th>2</th>\n",
       "      <td>ALB</td>\n",
       "      <td>Albania</td>\n",
       "      <td>3</td>\n",
       "      <td>3002678.0</td>\n",
       "      <td>1010.91600</td>\n",
       "      <td>2994.829902</td>\n",
       "      <td>0.3</td>\n",
       "      <td>0.815874</td>\n",
       "    </tr>\n",
       "    <tr>\n",
       "      <th>3</th>\n",
       "      <td>ALB</td>\n",
       "      <td>Albania</td>\n",
       "      <td>4</td>\n",
       "      <td>3002678.0</td>\n",
       "      <td>1086.90780</td>\n",
       "      <td>2994.829902</td>\n",
       "      <td>0.3</td>\n",
       "      <td>0.815874</td>\n",
       "    </tr>\n",
       "    <tr>\n",
       "      <th>4</th>\n",
       "      <td>ALB</td>\n",
       "      <td>Albania</td>\n",
       "      <td>5</td>\n",
       "      <td>3002678.0</td>\n",
       "      <td>1132.69970</td>\n",
       "      <td>2994.829902</td>\n",
       "      <td>0.3</td>\n",
       "      <td>0.815874</td>\n",
       "    </tr>\n",
       "  </tbody>\n",
       "</table>\n",
       "</div>"
      ],
      "text/plain": [
       "  country_code  country  quantile  population      income   income_avg  gini  \\\n",
       "0          ALB  Albania         1   3002678.0   728.89795  2994.829902   0.3   \n",
       "1          ALB  Albania         2   3002678.0   916.66235  2994.829902   0.3   \n",
       "2          ALB  Albania         3   3002678.0  1010.91600  2994.829902   0.3   \n",
       "3          ALB  Albania         4   3002678.0  1086.90780  2994.829902   0.3   \n",
       "4          ALB  Albania         5   3002678.0  1132.69970  2994.829902   0.3   \n",
       "\n",
       "         pj  \n",
       "0  0.815874  \n",
       "1  0.815874  \n",
       "2  0.815874  \n",
       "3  0.815874  \n",
       "4  0.815874  "
      ]
     },
     "metadata": {},
     "output_type": "display_data"
    },
    {
     "data": {
      "text/plain": [
       "(5800000, 8)"
      ]
     },
     "metadata": {},
     "output_type": "display_data"
    }
   ],
   "source": [
    "#Cet échantillon sera nommé \"df_wid500\", clone représentatif des individus de la WID\n",
    "df_wid500 = df_income_mobility[['country_code', 'country', 'quantile', 'population', \n",
    "                                'income', 'income_avg', 'gini', 'pj']]\n",
    "\n",
    "df_wid500 = pd.concat([df_wid500]*500, ignore_index=True)\n",
    "display(df_wid500.head())\n",
    "display(df_wid500.shape)"
   ]
  },
  {
   "cell_type": "markdown",
   "metadata": {},
   "source": [
    "### Attribution des classes parents aux 500 individus de chaque pays\n",
    "Pour chaque $c_{i,child}$ et chaque pays, il y a donc 500 individus. Maintenant il est question d'attribuer aux 500 individus leurs classes $c_{i,parent}$ conformément aux distributions trouvées précédemment. Par exemple, si P($c_{i,parent}$=8|$c_{i,child}$=5,$p_{j}$=0.9) = 0.03 , alors la classe $c_{i,parent}$ sera 8 à 15 des 500 individus du pays j ayant $c_{i,child}$=5 , car 500*0.03 = 15."
   ]
  },
  {
   "cell_type": "code",
   "execution_count": 101,
   "metadata": {},
   "outputs": [
    {
     "data": {
      "text/html": [
       "<div>\n",
       "<style scoped>\n",
       "    .dataframe tbody tr th:only-of-type {\n",
       "        vertical-align: middle;\n",
       "    }\n",
       "\n",
       "    .dataframe tbody tr th {\n",
       "        vertical-align: top;\n",
       "    }\n",
       "\n",
       "    .dataframe thead th {\n",
       "        text-align: right;\n",
       "    }\n",
       "</style>\n",
       "<table border=\"1\" class=\"dataframe\">\n",
       "  <thead>\n",
       "    <tr style=\"text-align: right;\">\n",
       "      <th></th>\n",
       "      <th>country_code</th>\n",
       "      <th>pj</th>\n",
       "    </tr>\n",
       "  </thead>\n",
       "  <tbody>\n",
       "    <tr>\n",
       "      <th>0</th>\n",
       "      <td>ALB</td>\n",
       "      <td>0.815874</td>\n",
       "    </tr>\n",
       "    <tr>\n",
       "      <th>1</th>\n",
       "      <td>ALB</td>\n",
       "      <td>0.815874</td>\n",
       "    </tr>\n",
       "    <tr>\n",
       "      <th>2</th>\n",
       "      <td>ALB</td>\n",
       "      <td>0.815874</td>\n",
       "    </tr>\n",
       "    <tr>\n",
       "      <th>3</th>\n",
       "      <td>ALB</td>\n",
       "      <td>0.815874</td>\n",
       "    </tr>\n",
       "    <tr>\n",
       "      <th>4</th>\n",
       "      <td>ALB</td>\n",
       "      <td>0.815874</td>\n",
       "    </tr>\n",
       "    <tr>\n",
       "      <th>...</th>\n",
       "      <td>...</td>\n",
       "      <td>...</td>\n",
       "    </tr>\n",
       "    <tr>\n",
       "      <th>11595</th>\n",
       "      <td>COD</td>\n",
       "      <td>0.707703</td>\n",
       "    </tr>\n",
       "    <tr>\n",
       "      <th>11596</th>\n",
       "      <td>COD</td>\n",
       "      <td>0.707703</td>\n",
       "    </tr>\n",
       "    <tr>\n",
       "      <th>11597</th>\n",
       "      <td>COD</td>\n",
       "      <td>0.707703</td>\n",
       "    </tr>\n",
       "    <tr>\n",
       "      <th>11598</th>\n",
       "      <td>COD</td>\n",
       "      <td>0.707703</td>\n",
       "    </tr>\n",
       "    <tr>\n",
       "      <th>11599</th>\n",
       "      <td>LTU</td>\n",
       "      <td>0.400000</td>\n",
       "    </tr>\n",
       "  </tbody>\n",
       "</table>\n",
       "<p>11600 rows × 2 columns</p>\n",
       "</div>"
      ],
      "text/plain": [
       "      country_code        pj\n",
       "0              ALB  0.815874\n",
       "1              ALB  0.815874\n",
       "2              ALB  0.815874\n",
       "3              ALB  0.815874\n",
       "4              ALB  0.815874\n",
       "...            ...       ...\n",
       "11595          COD  0.707703\n",
       "11596          COD  0.707703\n",
       "11597          COD  0.707703\n",
       "11598          COD  0.707703\n",
       "11599          LTU  0.400000\n",
       "\n",
       "[11600 rows x 2 columns]"
      ]
     },
     "execution_count": 101,
     "metadata": {},
     "output_type": "execute_result"
    }
   ],
   "source": [
    "#Coefficient d'élasticité / code pays\n",
    "country_income = df_income_mobility[['country_code', 'pj']]\n",
    "country_income"
   ]
  },
  {
   "cell_type": "markdown",
   "metadata": {},
   "source": [
    "**Le code suivant a été lancé non pas sur ma machine, mais sur Google Colab puis enregistrer sous fichier csv.Plus d'une heure de calcul a été nécessaire.**"
   ]
  },
  {
   "cell_type": "code",
   "execution_count": null,
   "metadata": {},
   "outputs": [],
   "source": [
    "%%time\n",
    "\n",
    "#Liste de toutes les distributions conditionnelles\n",
    "nb_quantiles = 100\n",
    "n = 100*500\n",
    "start_time = time.time()\n",
    "\n",
    "list_cd = {}\n",
    "for i, row in enumerate(country_income.iterrows()):\n",
    "    print(f\"\"\"{time.time()-start_time:.2f}s - pays {i+1}/{len(country_income)}\"\"\")\n",
    "    y_child, y_parents = generate_incomes(n, row[1][0])\n",
    "    sample_final = compute_quantiles(y_child, y_parents, nb_quantiles)\n",
    "    cd = conditional_distributions(sample_final, nb_quantiles)\n",
    "    list_cd[row[0]] = cd.tolist()"
   ]
  },
  {
   "cell_type": "code",
   "execution_count": null,
   "metadata": {},
   "outputs": [],
   "source": [
    "%%time\n",
    "\n",
    "#Boucle itérative sur chaque pays\n",
    "df_wid500['c_k_parent'] = NaN\n",
    "\n",
    "for i, code_pays in enumerate(df_income_mobility['country_code'].drop_duplicates().values):        \n",
    "    #seconde boucle sur chaque classe de revenu\n",
    "    for c_parents in np.arange(1,101, dtype='int8'):\n",
    "        #Récupération des distributions de la liste 'list_cd'\n",
    "        dc = list_cd[code_pays][c_parents-1]\n",
    "        \n",
    "        #calcul des valeurs en fonction de cette distribution \n",
    "        c_k_parent = []\n",
    "        for i in range(len(dc)):\n",
    "            classe_parent = int(dc[i]*500)\n",
    "            c_k_parent.extend([i+1]*classe_parent)\n",
    "        \n",
    "        #affectation des valeurs aux individus de l'échantillon\n",
    "        df_wid500.loc[(df_wid500['country_code'] == code_pays) & \n",
    "                      (df_wid500['quantile'] == c_parents), 'c_k_parent'] = c_k_parent\n",
    "            "
   ]
  },
  {
   "cell_type": "code",
   "execution_count": 102,
   "metadata": {},
   "outputs": [
    {
     "data": {
      "text/plain": [
       "(5800000, 8)"
      ]
     },
     "metadata": {},
     "output_type": "display_data"
    },
    {
     "data": {
      "text/html": [
       "<div>\n",
       "<style scoped>\n",
       "    .dataframe tbody tr th:only-of-type {\n",
       "        vertical-align: middle;\n",
       "    }\n",
       "\n",
       "    .dataframe tbody tr th {\n",
       "        vertical-align: top;\n",
       "    }\n",
       "\n",
       "    .dataframe thead th {\n",
       "        text-align: right;\n",
       "    }\n",
       "</style>\n",
       "<table border=\"1\" class=\"dataframe\">\n",
       "  <thead>\n",
       "    <tr style=\"text-align: right;\">\n",
       "      <th></th>\n",
       "      <th>country_code</th>\n",
       "      <th>country</th>\n",
       "      <th>quantile</th>\n",
       "      <th>c_k_parent</th>\n",
       "      <th>population</th>\n",
       "      <th>income</th>\n",
       "      <th>income_avg</th>\n",
       "      <th>gini</th>\n",
       "    </tr>\n",
       "  </thead>\n",
       "  <tbody>\n",
       "    <tr>\n",
       "      <th>0</th>\n",
       "      <td>ALB</td>\n",
       "      <td>Albania</td>\n",
       "      <td>1</td>\n",
       "      <td>1</td>\n",
       "      <td>3002678.0</td>\n",
       "      <td>728.89795</td>\n",
       "      <td>2994.829902</td>\n",
       "      <td>0.3</td>\n",
       "    </tr>\n",
       "    <tr>\n",
       "      <th>1</th>\n",
       "      <td>ALB</td>\n",
       "      <td>Albania</td>\n",
       "      <td>2</td>\n",
       "      <td>1</td>\n",
       "      <td>3002678.0</td>\n",
       "      <td>916.66235</td>\n",
       "      <td>2994.829902</td>\n",
       "      <td>0.3</td>\n",
       "    </tr>\n",
       "    <tr>\n",
       "      <th>2</th>\n",
       "      <td>ALB</td>\n",
       "      <td>Albania</td>\n",
       "      <td>3</td>\n",
       "      <td>1</td>\n",
       "      <td>3002678.0</td>\n",
       "      <td>1010.91600</td>\n",
       "      <td>2994.829902</td>\n",
       "      <td>0.3</td>\n",
       "    </tr>\n",
       "    <tr>\n",
       "      <th>3</th>\n",
       "      <td>ALB</td>\n",
       "      <td>Albania</td>\n",
       "      <td>4</td>\n",
       "      <td>1</td>\n",
       "      <td>3002678.0</td>\n",
       "      <td>1086.90780</td>\n",
       "      <td>2994.829902</td>\n",
       "      <td>0.3</td>\n",
       "    </tr>\n",
       "    <tr>\n",
       "      <th>4</th>\n",
       "      <td>ALB</td>\n",
       "      <td>Albania</td>\n",
       "      <td>5</td>\n",
       "      <td>1</td>\n",
       "      <td>3002678.0</td>\n",
       "      <td>1132.69970</td>\n",
       "      <td>2994.829902</td>\n",
       "      <td>0.3</td>\n",
       "    </tr>\n",
       "  </tbody>\n",
       "</table>\n",
       "</div>"
      ],
      "text/plain": [
       "  country_code  country  quantile  c_k_parent  population      income  \\\n",
       "0          ALB  Albania         1           1   3002678.0   728.89795   \n",
       "1          ALB  Albania         2           1   3002678.0   916.66235   \n",
       "2          ALB  Albania         3           1   3002678.0  1010.91600   \n",
       "3          ALB  Albania         4           1   3002678.0  1086.90780   \n",
       "4          ALB  Albania         5           1   3002678.0  1132.69970   \n",
       "\n",
       "    income_avg  gini  \n",
       "0  2994.829902   0.3  \n",
       "1  2994.829902   0.3  \n",
       "2  2994.829902   0.3  \n",
       "3  2994.829902   0.3  \n",
       "4  2994.829902   0.3  "
      ]
     },
     "metadata": {},
     "output_type": "display_data"
    }
   ],
   "source": [
    "#Chargement de l'échantillon \"df_wid500\" issu du fichier df_wid500.csv généré sur Colab\n",
    "df_wid500 = pd.read_csv('p7_data/df_wid500.csv')\n",
    "df_wid500.drop(['Unnamed: 0', 'pj'], axis=1, inplace=True)\n",
    "display(df_wid500.shape)\n",
    "display(df_wid500.head())"
   ]
  },
  {
   "cell_type": "markdown",
   "metadata": {},
   "source": [
    "[Retour vers la page notebook précédente (Analyse de la diversité des pays, clustering, Gini, courbe de Lorenz…)](https://github.com/nalron/project_income_analysis/blob/french_version/p7_notebook02.ipynb)\n",
    "\n",
    "[Voir la suite du projet : ANOVA, régression linéaire et tests statistiques](https://github.com/nalron/project_income_analysis/blob/french_version/p7_notebook04.ipynb)"
   ]
  }
 ],
 "metadata": {
  "kernelspec": {
   "display_name": "Python 3",
   "language": "python",
   "name": "python3"
  },
  "language_info": {
   "codemirror_mode": {
    "name": "ipython",
    "version": 3
   },
   "file_extension": ".py",
   "mimetype": "text/x-python",
   "name": "python",
   "nbconvert_exporter": "python",
   "pygments_lexer": "ipython3",
   "version": "3.7.5"
  },
  "toc": {
   "base_numbering": 1,
   "nav_menu": {},
   "number_sections": true,
   "sideBar": true,
   "skip_h1_title": false,
   "title_cell": "Table of Contents",
   "title_sidebar": "Contents",
   "toc_cell": false,
   "toc_position": {},
   "toc_section_display": true,
   "toc_window_display": false
  },
  "varInspector": {
   "cols": {
    "lenName": 16,
    "lenType": 16,
    "lenVar": 40
   },
   "kernels_config": {
    "python": {
     "delete_cmd_postfix": "",
     "delete_cmd_prefix": "del ",
     "library": "var_list.py",
     "varRefreshCmd": "print(var_dic_list())"
    },
    "r": {
     "delete_cmd_postfix": ") ",
     "delete_cmd_prefix": "rm(",
     "library": "var_list.r",
     "varRefreshCmd": "cat(var_dic_list()) "
    }
   },
   "types_to_exclude": [
    "module",
    "function",
    "builtin_function_or_method",
    "instance",
    "_Feature"
   ],
   "window_display": false
  }
 },
 "nbformat": 4,
 "nbformat_minor": 2
}
